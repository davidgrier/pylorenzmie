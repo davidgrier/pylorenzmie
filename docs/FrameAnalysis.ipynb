{
 "cells": [
  {
   "cell_type": "markdown",
   "metadata": {},
   "source": [
    "# Fitting a Hologram\n",
    "\n",
    "This notebook shows how to load a pre-recorded hologram of a colloidal sphere\n",
    "into a Feature object and analyze it with Lorenz-Mie theory. The analysis yields\n",
    "the radius of the sphere, the refractive index of the sphere, and the sphere's\n",
    "three-dimensional location relative to the center of the imaging plane."
   ]
  },
  {
   "cell_type": "code",
   "execution_count": 1,
   "metadata": {},
   "outputs": [],
   "source": [
    "%matplotlib inline\n",
    "import matplotlib.pyplot as plt\n",
    "from matplotlib.patches import Rectangle\n",
    "import numpy as np\n",
    "import cv2\n",
    "\n",
    "from pylorenzmie.utilities import configuration as config\n",
    "config.use_catch = True\n",
    "from pylorenzmie.analysis import Frame"
   ]
  },
  {
   "cell_type": "markdown",
   "metadata": {},
   "source": [
    "## Framework for Lorenz-Mie analysis\n",
    "First, we instantiate a Frame() object. By default, Frame analyzes features with \n",
    "the standard Lorenz-Mie model for hologram formation. The model includes a description of the holographic microscope that records the images we wish to analyze. In this example, we specify that the instrument illuminates the sample with blue light at a vacuum wavelength of $\\lambda$ = 0.447 μm and has a system magnification of 0.048 μm/pixel. For particles dispersed in water, the refractive index of the medium is $n_m$ = 1.340 at the imaging wavelength. These calibration constants may differ for different hardware implementations.\n",
    "The commercial xSight instrument, for example, uses a system magnification of 0.120 μm/pixel."
   ]
  },
  {
   "cell_type": "code",
   "execution_count": 2,
   "metadata": {},
   "outputs": [
    {
     "name": "stdout",
     "output_type": "stream",
     "text": [
      "Adding autoShape... \n"
     ]
    }
   ],
   "source": [
    "configuration = dict(wavelength = 0.447,    # [um]\n",
    "                     magnification = 0.048, # [um/pixel]\n",
    "                     n_m = 1.34, \n",
    "                     distribution = 'radial',\n",
    "                     percentpix = 0.2)\n",
    "\n",
    "frame = Frame(**configuration)"
   ]
  },
  {
   "cell_type": "markdown",
   "metadata": {},
   "source": [
    "## Read in holographic microscopy data\n",
    "Next, we load the (normalized) hologram we wish to fit. In the present example, we use OpenCV to load a pre-recorded hologram that was saved as a PNG image. We convert the image to grayscale and normalize it by the mean value. This hologram was cropped from a larger image. Since we are not interested in locating the particle within the original image, we provide the model with a standard coordinate system using the coordinates() helper function. We finally can provide the normalized image data to the Feature() object for analysis."
   ]
  },
  {
   "cell_type": "code",
   "execution_count": 3,
   "metadata": {},
   "outputs": [],
   "source": [
    "# Read example image\n",
    "image = cv2.imread('tutorials/image0010.png', 0).astype(float)"
   ]
  },
  {
   "cell_type": "markdown",
   "metadata": {},
   "source": [
    "## Holograms must be normalized for analysis"
   ]
  },
  {
   "cell_type": "code",
   "execution_count": 4,
   "metadata": {},
   "outputs": [],
   "source": [
    "image /= np.mean(image)"
   ]
  },
  {
   "cell_type": "markdown",
   "metadata": {},
   "source": [
    "## Identify features and estimate bounding boxes"
   ]
  },
  {
   "cell_type": "code",
   "execution_count": 5,
   "metadata": {},
   "outputs": [],
   "source": [
    "# Features identified by eye\n",
    "x_p = np.array([563, 920])\n",
    "y_p = np.array([720, 732])\n",
    "\n",
    "# Bounding boxes\n",
    "w, h = 400, 400\n",
    "x0 = (x_p - w/2).astype(int)\n",
    "y0 = (y_p - h/2).astype(int)\n",
    "bboxes = [((x0[n], y0[n]), w, h) for n in range(2)]"
   ]
  },
  {
   "cell_type": "code",
   "execution_count": 6,
   "metadata": {},
   "outputs": [],
   "source": [
    "fig, ax = plt.subplots(figsize=(8,8))\n",
    "ax.imshow(image, cmap='gray')\n",
    "ax.scatter(x_p, y_p, color='r')\n",
    "for bbox in bboxes:\n",
    "    ax.add_patch(Rectangle(*bbox, fill=False, ec='r'))"
   ]
  },
  {
   "cell_type": "markdown",
   "metadata": {},
   "source": [
    "## Load image data and bounding boxes into frame"
   ]
  },
  {
   "cell_type": "code",
   "execution_count": 7,
   "metadata": {},
   "outputs": [],
   "source": [
    "frame.data = image\n",
    "frame.bboxes = bboxes"
   ]
  },
  {
   "cell_type": "markdown",
   "metadata": {},
   "source": [
    "## Estimate the parameters for each particle and perform fits"
   ]
  },
  {
   "cell_type": "code",
   "execution_count": 8,
   "metadata": {},
   "outputs": [],
   "source": [
    "for n, feature in enumerate(frame.features):\n",
    "    particle = feature.particle\n",
    "    particle.r_p = np.array([x_p[n], y_p[n], 200])\n",
    "    particle.n_p = 1.5\n",
    "    particle.a_p = 1.\n",
    "\n",
    "results = frame.optimize()"
   ]
  },
  {
   "cell_type": "code",
   "execution_count": 9,
   "metadata": {},
   "outputs": [
    {
     "name": "stdout",
     "output_type": "stream",
     "text": [
      "Empty DataFrame\n",
      "Columns: []\n",
      "Index: []\n"
     ]
    }
   ],
   "source": [
    "print(results)"
   ]
  }
 ],
 "metadata": {
  "kernelspec": {
   "display_name": "Python 3",
   "language": "python",
   "name": "python3"
  },
  "language_info": {
   "codemirror_mode": {
    "name": "ipython",
    "version": 3
   },
   "file_extension": ".py",
   "mimetype": "text/x-python",
   "name": "python",
   "nbconvert_exporter": "python",
   "pygments_lexer": "ipython3",
   "version": "3.7.10"
  }
 },
 "nbformat": 4,
 "nbformat_minor": 4
}
