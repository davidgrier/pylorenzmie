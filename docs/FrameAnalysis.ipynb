{
 "cells": [
  {
   "cell_type": "markdown",
   "metadata": {},
   "source": [
    "# Fitting a Hologram\n",
    "\n",
    "This notebook shows how to load pre-recorded holograms colloidal spheres\n",
    "into a **Frame** object and analyze them with Lorenz-Mie theory. The analysis \n",
    "detects all of the spheres in the field of view and yields values for each\n",
    "spheres radius, refractive index and three-dimensional location, together with\n",
    "error estimates for each value."
   ]
  },
  {
   "cell_type": "code",
   "execution_count": null,
   "metadata": {},
   "outputs": [
    {
     "name": "stderr",
     "output_type": "stream",
     "text": [
      "WARNING:configuration: Cannot import CATCH:\n",
      "\tNo module named 'yolov5'\n",
      "INFO:configuration: Falling back to standard implementation\n"
     ]
    }
   ],
   "source": [
    "import matplotlib.pyplot as plt\n",
    "from IPython.display import display\n",
    "from matplotlib.patches import Rectangle\n",
    "import numpy as np\n",
    "import cv2\n",
    "\n",
    "# import cupy # Uncomment to use GPU acceleration\n",
    "from pylorenzmie.analysis import Frame\n",
    "\n",
    "#import pandas as pd\n",
    "#pd.set_option('max_columns', None)\n",
    "#pd.set_option('precision', 3)"
   ]
  },
  {
   "cell_type": "markdown",
   "metadata": {},
   "source": [
    "## Framework for Lorenz-Mie analysis\n",
    "First, we instantiate a **Frame** object. By default, **Frame** analyzes features with \n",
    "the standard Lorenz-Mie model for hologram formation. The model includes a representation of the instrument that records the images we wish to analyze. In this example, we specify that the instrument is an in-line holographic microscope that illuminates the sample with blue light at a vacuum wavelength of $\\lambda$ = 0.447 μm and has a system magnification of 0.048 μm/pixel. We will be analyzing holograms of colloidal spheres dispersed in water. The refractive index of the medium therefore is $n_m$ = 1.340 at the imaging wavelength. These calibration constants may differ for different hardware implementations. The commercial xSight instrument, for example, uses a system magnification of 0.120 μm/pixel."
   ]
  },
  {
   "cell_type": "code",
   "execution_count": null,
   "metadata": {},
   "outputs": [],
   "source": [
    "configuration = dict(wavelength = 0.447,    # [um]\n",
    "                     magnification = 0.048, # [um/pixel]\n",
    "                     n_m = 1.34, \n",
    "                     distribution = 'radial',\n",
    "                     percentpix = 0.2,\n",
    "                     pupil=640.)\n",
    "\n",
    "frame = Frame(**configuration)"
   ]
  },
  {
   "cell_type": "markdown",
   "metadata": {},
   "source": [
    "We also will want to report the results of our hologram analysis. Here's a handy helper function:"
   ]
  },
  {
   "cell_type": "code",
   "execution_count": null,
   "metadata": {},
   "outputs": [],
   "source": [
    "def report(frame):\n",
    "    fig, ax = plt.subplots(figsize=(8,8))\n",
    "    ax.imshow(frame.data, cmap='gray')\n",
    "    ax.scatter(frame.results.x_p, frame.results.y_p, c='r')\n",
    "    for bbox in frame.bboxes:\n",
    "        ax.add_patch(Rectangle(*bbox, fill=False, ec='r'))\n",
    "    display(frame.results)"
   ]
  },
  {
   "cell_type": "markdown",
   "metadata": {},
   "source": [
    "## Read in holographic microscopy data\n",
    "Next, we load the hologram that we wish to analyze. The Frame() object expects a normalized hologram whose background intensity value is 1. Our example holograms are stored as PNG images with the background value set to 100. We use OpenCV to read them in as single-channel grayscale images, convert them to floating-point arrays and then normalize them."
   ]
  },
  {
   "cell_type": "code",
   "execution_count": null,
   "metadata": {},
   "outputs": [],
   "source": [
    "data = cv2.imread('tutorials/PS_silica.png', 0).astype(float) / 100"
   ]
  },
  {
   "cell_type": "markdown",
   "metadata": {},
   "source": [
    "## Analyze the normalized hologram with Frame()"
   ]
  },
  {
   "cell_type": "code",
   "execution_count": null,
   "metadata": {},
   "outputs": [],
   "source": [
    "frame.analyze(data)\n",
    "report(frame)"
   ]
  },
  {
   "cell_type": "markdown",
   "metadata": {},
   "source": [
    "## Troublesome holograms\n",
    "\n",
    "Sometimes, automated fits to holograms do not work out correctly, typically\n",
    "because the optimizer locks on to a local minimum in the error surface rather\n",
    "than finding the globally optimal solution. There are at least two approaches\n",
    "to overcoming this problem:\n",
    "1. using prior knowledge\n",
    "2. using robust fitting\n",
    "\n",
    "As an example, this is a hologram of a pair of silica spheres in water, each \n",
    "nominally 2 µm in diameter. The fitter appears to lock on nicely, but the \n",
    "results for the radius and refractive index are incorrect.\n",
    "We know that something is amiss because the reduced chi-square statistic is signifiantly\n",
    "larger than 1."
   ]
  },
  {
   "cell_type": "code",
   "execution_count": null,
   "metadata": {},
   "outputs": [],
   "source": [
    "data = cv2.imread('tutorials/image0010.png', 0).astype(float)\n",
    "data /= np.median(data)\n",
    "frame.analyze(data)\n",
    "report(frame)"
   ]
  },
  {
   "cell_type": "markdown",
   "metadata": {},
   "source": [
    "The problem is likely to be that the automated parameter estimator is providing\n",
    "initial estimates that are too far from the ground truth for the optimizer to \n",
    "identify the globally optimal solution. "
   ]
  },
  {
   "cell_type": "markdown",
   "metadata": {},
   "source": [
    "## Reanalyze data with robust estimation\n",
    "\n",
    "Adding <tt>robust=True</tt> to the Frame's configuration informs the\n",
    "optimizer to minimize the absolute deviations rather than the squared deviations.\n",
    "This makes the optimization less sensitive to outliers, such as the pixels\n",
    "in the overlapping interference patterns between the two particles."
   ]
  },
  {
   "cell_type": "code",
   "execution_count": null,
   "metadata": {},
   "outputs": [],
   "source": [
    "configuration = dict(wavelength = 0.447,    # [um]\n",
    "                     magnification = 0.048, # [um/pixel]\n",
    "                     n_m = 1.34, \n",
    "                     distribution = 'radial',\n",
    "                     percentpix = 0.2,\n",
    "                     robust = True\n",
    "                     )\n",
    "\n",
    "robust_frame = Frame(**configuration)\n",
    "data = cv2.imread('tutorials/image0010.png', 0).astype(float)\n",
    "data /= np.median(data)\n",
    "robust_frame.analyze(data)\n",
    "report(robust_frame)"
   ]
  },
  {
   "cell_type": "code",
   "execution_count": null,
   "metadata": {},
   "outputs": [],
   "source": []
  }
 ],
 "metadata": {
  "kernelspec": {
   "display_name": "Python 3 (ipykernel)",
   "language": "python",
   "name": "python3"
  },
  "language_info": {
   "codemirror_mode": {
    "name": "ipython",
    "version": 3
   },
   "file_extension": ".py",
   "mimetype": "text/x-python",
   "name": "python",
   "nbconvert_exporter": "python",
   "pygments_lexer": "ipython3",
   "version": "3.8.12"
  }
 },
 "nbformat": 4,
 "nbformat_minor": 4
}
